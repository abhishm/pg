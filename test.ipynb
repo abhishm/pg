{
 "cells": [
  {
   "cell_type": "code",
   "execution_count": 1,
   "metadata": {
    "collapsed": false
   },
   "outputs": [],
   "source": [
    "import gym\n",
    "import universe\n",
    "import tensorflow as tf\n",
    "import numpy as np"
   ]
  },
  {
   "cell_type": "code",
   "execution_count": 5,
   "metadata": {
    "collapsed": false
   },
   "outputs": [
    {
     "name": "stderr",
     "output_type": "stream",
     "text": [
      "[2017-04-06 10:05:21,967] Making new env: CartPole-v0\n"
     ]
    }
   ],
   "source": [
    "env = gym.make(\"CartPole-v0\")"
   ]
  },
  {
   "cell_type": "code",
   "execution_count": 20,
   "metadata": {
    "collapsed": false
   },
   "outputs": [],
   "source": [
    "input_shape = list(env.observation_space.shape)\n",
    "output_shape = env.action_space.n"
   ]
  },
  {
   "cell_type": "code",
   "execution_count": 2,
   "metadata": {
    "collapsed": true
   },
   "outputs": [],
   "source": [
    "gru_unit_size = 16\n",
    "gru_cell = tf.contrib.rnn.GRUCell(gru_unit_size)"
   ]
  },
  {
   "cell_type": "code",
   "execution_count": 3,
   "metadata": {
    "collapsed": true
   },
   "outputs": [],
   "source": [
    "x = tf.placeholder(tf.float32, [1, None] + input_shape, \"x\")\n",
    "initial_state = gru_cell.zero_state(1, dtype=tf.float32)\n",
    "output, final_state = tf.nn.dynamic_rnn(gru_cell, x, initial_state=initial_state)"
   ]
  },
  {
   "cell_type": "code",
   "execution_count": 22,
   "metadata": {
    "collapsed": true
   },
   "outputs": [],
   "source": [
    "with tf.variable_scope(\"softmax\"):\n",
    "    w_softmax = tf.get_variable(\"w_softmax\", shape=[gru_unit_size, output_shape], \n",
    "                                initializer=tf.contrib.layers.xavier_initializer())\n",
    "    b_softmax = tf.get_variable(\"b_softmax\", shape=[output_shape], \n",
    "                                initializer=tf.constant_initializer(0))"
   ]
  },
  {
   "cell_type": "code",
   "execution_count": 23,
   "metadata": {
    "collapsed": true
   },
   "outputs": [],
   "source": [
    "logit = tf.matmul(tf.reshape(output, [-1, gru_unit_size]), w_softmax) + b_softmax"
   ]
  },
  {
   "cell_type": "code",
   "execution_count": 27,
   "metadata": {
    "collapsed": true
   },
   "outputs": [],
   "source": [
    "prob = tf.nn.softmax(logit)"
   ]
  },
  {
   "cell_type": "code",
   "execution_count": 29,
   "metadata": {
    "collapsed": true
   },
   "outputs": [],
   "source": [
    "def action(prob):\n",
    "    return np.random.choice(output_shape, p=prob)"
   ]
  },
  {
   "cell_type": "code",
   "execution_count": 4,
   "metadata": {
    "collapsed": true
   },
   "outputs": [],
   "source": [
    "session = tf.InteractiveSession()"
   ]
  },
  {
   "cell_type": "code",
   "execution_count": 46,
   "metadata": {
    "collapsed": false
   },
   "outputs": [],
   "source": [
    "env_state = env.reset()\n",
    "states = [env_state]\n",
    "actions = \n",
    "for _ in range(5):\n",
    "    p = prob.eval({x: np.array([[env_state]])})\n",
    "    a = action(p[0])\n",
    "    env_state, reward, done, _ = env.step(a)\n",
    "    states.append(env_state)\n",
    "    "
   ]
  },
  {
   "cell_type": "code",
   "execution_count": 9,
   "metadata": {
    "collapsed": false
   },
   "outputs": [],
   "source": [
    "t = np.array([[env_state]])"
   ]
  },
  {
   "cell_type": "code",
   "execution_count": 25,
   "metadata": {
    "collapsed": false
   },
   "outputs": [],
   "source": [
    "session.run(tf.global_variables_initializer())"
   ]
  },
  {
   "cell_type": "code",
   "execution_count": 54,
   "metadata": {
    "collapsed": false
   },
   "outputs": [
    {
     "data": {
      "text/plain": [
       "array([[[ 0.03583439, -0.01552227, -0.02202406, -0.02863024],\n",
       "        [ 0.03552394,  0.17990848, -0.02259667, -0.32817983],\n",
       "        [ 0.03912211, -0.01488461, -0.02916027, -0.04270764],\n",
       "        [ 0.03882442,  0.18064309, -0.03001442, -0.34444641],\n",
       "        [ 0.04243728,  0.37617887, -0.03690335, -0.6464409 ],\n",
       "        [ 0.04996086,  0.18159003, -0.04983216, -0.36560348]]])"
      ]
     },
     "execution_count": 54,
     "metadata": {},
     "output_type": "execute_result"
    }
   ],
   "source": [
    "np.array([states])"
   ]
  },
  {
   "cell_type": "code",
   "execution_count": 57,
   "metadata": {
    "collapsed": false
   },
   "outputs": [
    {
     "data": {
      "text/plain": [
       "array([[ 0.13425873,  0.13091666,  0.01987722, -0.07110289,  0.05040483,\n",
       "         0.0908491 ,  0.0052139 , -0.16597813, -0.03095519, -0.08463304,\n",
       "        -0.01963032, -0.13310876,  0.01891536, -0.08630788,  0.02064023,\n",
       "        -0.13375406]], dtype=float32)"
      ]
     },
     "execution_count": 57,
     "metadata": {},
     "output_type": "execute_result"
    }
   ],
   "source": [
    "final_state.eval({x: np.array([states])})"
   ]
  },
  {
   "cell_type": "code",
   "execution_count": 56,
   "metadata": {
    "collapsed": false
   },
   "outputs": [
    {
     "data": {
      "text/plain": [
       "array([[ -6.23138901e-03,   5.04083873e-04,  -3.41130095e-03,\n",
       "         -4.78623016e-03,  -3.91389709e-03,   4.17959318e-03,\n",
       "         -4.97021573e-03,  -2.22982885e-03,   7.49237090e-03,\n",
       "          2.88198772e-03,   4.46935697e-03,   3.18044145e-03,\n",
       "         -6.15646277e-05,   3.78778856e-03,  -4.10104170e-03,\n",
       "          1.25843345e-03]], dtype=float32)"
      ]
     },
     "execution_count": 56,
     "metadata": {},
     "output_type": "execute_result"
    }
   ],
   "source": [
    "final_state.eval({x: t})"
   ]
  },
  {
   "cell_type": "code",
   "execution_count": null,
   "metadata": {
    "collapsed": true
   },
   "outputs": [],
   "source": []
  }
 ],
 "metadata": {
  "anaconda-cloud": {},
  "kernelspec": {
   "display_name": "Python [conda env:universe]",
   "language": "python",
   "name": "conda-env-universe-py"
  },
  "language_info": {
   "codemirror_mode": {
    "name": "ipython",
    "version": 3
   },
   "file_extension": ".py",
   "mimetype": "text/x-python",
   "name": "python",
   "nbconvert_exporter": "python",
   "pygments_lexer": "ipython3",
   "version": "3.5.2"
  }
 },
 "nbformat": 4,
 "nbformat_minor": 1
}
